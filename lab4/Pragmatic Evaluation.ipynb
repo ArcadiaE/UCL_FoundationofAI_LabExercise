{
 "cells": [
  {
   "cell_type": "markdown",
   "id": "3b485358",
   "metadata": {},
   "source": [
    "# Pragmatic Evaluation\n",
    "\n",
    "In this notebook, you will learn how to run a k-flod test, as well as create different metrics based on confusion matrix\n",
    "\n",
    "## Authors\n",
    "- Xiao Fu and Sahan Bulathwela\n",
    "\n",
    "## Learning Outcomes\n",
    "- **K-Fold Cross Validation:** Testing accuracy for just once doesn't account for the variance in the data and might give misleading results. K-Fold validation randomly selects one of $k$ parts of the data set then tests the accuracy on the same. After required number of iterations, the accuracy is averaged\n",
    "- **Confusion matrix:** The Confusion matrix is used only on classification tasks. It describes the following matrix\n",
    "- **Classification Metrics:** Several popular metrics that are used for evaluating classification performance\n",
    "\n",
    "## Source\n",
    "- https://github.com/maykulkarni/Machine-Learning-Notebooks\n"
   ]
  },
  {
   "cell_type": "markdown",
   "id": "8bd84d3b",
   "metadata": {},
   "source": [
    "## Task\n",
    "\n",
    "1. Run a K-fold test\n",
    "2. Build evaluation metrics"
   ]
  },
  {
   "cell_type": "markdown",
   "id": "72e80450",
   "metadata": {},
   "source": [
    "## Importing Libraries"
   ]
  },
  {
   "cell_type": "code",
   "execution_count": 1,
   "id": "1c90afa8",
   "metadata": {},
   "outputs": [],
   "source": [
    "import pandas as pd\n",
    "import matplotlib.pyplot as plt\n",
    "import numpy as np\n",
    "from sklearn.preprocessing import StandardScaler\n",
    "from sklearn.model_selection import KFold\n",
    "from sklearn.metrics import accuracy_score\n",
    "from sklearn.linear_model import LogisticRegression"
   ]
  },
  {
   "cell_type": "markdown",
   "id": "2516a321",
   "metadata": {},
   "source": [
    "## Importing the Dataset\n",
    "\n",
    "A simple dataset available from https://www.kaggle.com/datasets/rakeshrau/social-network-ads/"
   ]
  },
  {
   "cell_type": "code",
   "execution_count": 2,
   "id": "4703a5d7",
   "metadata": {},
   "outputs": [
    {
     "data": {
      "text/html": [
       "<div>\n",
       "<style scoped>\n",
       "    .dataframe tbody tr th:only-of-type {\n",
       "        vertical-align: middle;\n",
       "    }\n",
       "\n",
       "    .dataframe tbody tr th {\n",
       "        vertical-align: top;\n",
       "    }\n",
       "\n",
       "    .dataframe thead th {\n",
       "        text-align: right;\n",
       "    }\n",
       "</style>\n",
       "<table border=\"1\" class=\"dataframe\">\n",
       "  <thead>\n",
       "    <tr style=\"text-align: right;\">\n",
       "      <th></th>\n",
       "      <th>User ID</th>\n",
       "      <th>Gender</th>\n",
       "      <th>Age</th>\n",
       "      <th>EstimatedSalary</th>\n",
       "      <th>Purchased</th>\n",
       "    </tr>\n",
       "  </thead>\n",
       "  <tbody>\n",
       "    <tr>\n",
       "      <th>0</th>\n",
       "      <td>15624510</td>\n",
       "      <td>Male</td>\n",
       "      <td>19</td>\n",
       "      <td>19000</td>\n",
       "      <td>0</td>\n",
       "    </tr>\n",
       "    <tr>\n",
       "      <th>1</th>\n",
       "      <td>15810944</td>\n",
       "      <td>Male</td>\n",
       "      <td>35</td>\n",
       "      <td>20000</td>\n",
       "      <td>0</td>\n",
       "    </tr>\n",
       "    <tr>\n",
       "      <th>2</th>\n",
       "      <td>15668575</td>\n",
       "      <td>Female</td>\n",
       "      <td>26</td>\n",
       "      <td>43000</td>\n",
       "      <td>0</td>\n",
       "    </tr>\n",
       "    <tr>\n",
       "      <th>3</th>\n",
       "      <td>15603246</td>\n",
       "      <td>Female</td>\n",
       "      <td>27</td>\n",
       "      <td>57000</td>\n",
       "      <td>0</td>\n",
       "    </tr>\n",
       "    <tr>\n",
       "      <th>4</th>\n",
       "      <td>15804002</td>\n",
       "      <td>Male</td>\n",
       "      <td>19</td>\n",
       "      <td>76000</td>\n",
       "      <td>0</td>\n",
       "    </tr>\n",
       "    <tr>\n",
       "      <th>5</th>\n",
       "      <td>15728773</td>\n",
       "      <td>Male</td>\n",
       "      <td>27</td>\n",
       "      <td>58000</td>\n",
       "      <td>0</td>\n",
       "    </tr>\n",
       "    <tr>\n",
       "      <th>6</th>\n",
       "      <td>15598044</td>\n",
       "      <td>Female</td>\n",
       "      <td>27</td>\n",
       "      <td>84000</td>\n",
       "      <td>0</td>\n",
       "    </tr>\n",
       "    <tr>\n",
       "      <th>7</th>\n",
       "      <td>15694829</td>\n",
       "      <td>Female</td>\n",
       "      <td>32</td>\n",
       "      <td>150000</td>\n",
       "      <td>1</td>\n",
       "    </tr>\n",
       "    <tr>\n",
       "      <th>8</th>\n",
       "      <td>15600575</td>\n",
       "      <td>Male</td>\n",
       "      <td>25</td>\n",
       "      <td>33000</td>\n",
       "      <td>0</td>\n",
       "    </tr>\n",
       "    <tr>\n",
       "      <th>9</th>\n",
       "      <td>15727311</td>\n",
       "      <td>Female</td>\n",
       "      <td>35</td>\n",
       "      <td>65000</td>\n",
       "      <td>0</td>\n",
       "    </tr>\n",
       "  </tbody>\n",
       "</table>\n",
       "</div>"
      ],
      "text/plain": [
       "    User ID  Gender  Age  EstimatedSalary  Purchased\n",
       "0  15624510    Male   19            19000          0\n",
       "1  15810944    Male   35            20000          0\n",
       "2  15668575  Female   26            43000          0\n",
       "3  15603246  Female   27            57000          0\n",
       "4  15804002    Male   19            76000          0\n",
       "5  15728773    Male   27            58000          0\n",
       "6  15598044  Female   27            84000          0\n",
       "7  15694829  Female   32           150000          1\n",
       "8  15600575    Male   25            33000          0\n",
       "9  15727311  Female   35            65000          0"
      ]
     },
     "execution_count": 2,
     "metadata": {},
     "output_type": "execute_result"
    }
   ],
   "source": [
    "df = pd.read_csv('data/Social_Network_Ads.csv')\n",
    "X = df.iloc[:, 2:4]\n",
    "y = df.iloc[:, 4]\n",
    "\n",
    "df.head(10)"
   ]
  },
  {
   "cell_type": "code",
   "execution_count": 3,
   "id": "192a5825",
   "metadata": {},
   "outputs": [
    {
     "data": {
      "text/html": [
       "<div>\n",
       "<style scoped>\n",
       "    .dataframe tbody tr th:only-of-type {\n",
       "        vertical-align: middle;\n",
       "    }\n",
       "\n",
       "    .dataframe tbody tr th {\n",
       "        vertical-align: top;\n",
       "    }\n",
       "\n",
       "    .dataframe thead th {\n",
       "        text-align: right;\n",
       "    }\n",
       "</style>\n",
       "<table border=\"1\" class=\"dataframe\">\n",
       "  <thead>\n",
       "    <tr style=\"text-align: right;\">\n",
       "      <th></th>\n",
       "      <th>Age</th>\n",
       "      <th>EstimatedSalary</th>\n",
       "    </tr>\n",
       "  </thead>\n",
       "  <tbody>\n",
       "    <tr>\n",
       "      <th>0</th>\n",
       "      <td>19</td>\n",
       "      <td>19000</td>\n",
       "    </tr>\n",
       "    <tr>\n",
       "      <th>1</th>\n",
       "      <td>35</td>\n",
       "      <td>20000</td>\n",
       "    </tr>\n",
       "    <tr>\n",
       "      <th>2</th>\n",
       "      <td>26</td>\n",
       "      <td>43000</td>\n",
       "    </tr>\n",
       "    <tr>\n",
       "      <th>3</th>\n",
       "      <td>27</td>\n",
       "      <td>57000</td>\n",
       "    </tr>\n",
       "    <tr>\n",
       "      <th>4</th>\n",
       "      <td>19</td>\n",
       "      <td>76000</td>\n",
       "    </tr>\n",
       "    <tr>\n",
       "      <th>5</th>\n",
       "      <td>27</td>\n",
       "      <td>58000</td>\n",
       "    </tr>\n",
       "    <tr>\n",
       "      <th>6</th>\n",
       "      <td>27</td>\n",
       "      <td>84000</td>\n",
       "    </tr>\n",
       "    <tr>\n",
       "      <th>7</th>\n",
       "      <td>32</td>\n",
       "      <td>150000</td>\n",
       "    </tr>\n",
       "    <tr>\n",
       "      <th>8</th>\n",
       "      <td>25</td>\n",
       "      <td>33000</td>\n",
       "    </tr>\n",
       "    <tr>\n",
       "      <th>9</th>\n",
       "      <td>35</td>\n",
       "      <td>65000</td>\n",
       "    </tr>\n",
       "  </tbody>\n",
       "</table>\n",
       "</div>"
      ],
      "text/plain": [
       "   Age  EstimatedSalary\n",
       "0   19            19000\n",
       "1   35            20000\n",
       "2   26            43000\n",
       "3   27            57000\n",
       "4   19            76000\n",
       "5   27            58000\n",
       "6   27            84000\n",
       "7   32           150000\n",
       "8   25            33000\n",
       "9   35            65000"
      ]
     },
     "execution_count": 3,
     "metadata": {},
     "output_type": "execute_result"
    }
   ],
   "source": [
    "# Checking data X\n",
    "X.head(10)"
   ]
  },
  {
   "cell_type": "code",
   "execution_count": 4,
   "id": "1e4ad3b7",
   "metadata": {},
   "outputs": [
    {
     "data": {
      "text/plain": [
       "0    0\n",
       "1    0\n",
       "2    0\n",
       "3    0\n",
       "4    0\n",
       "5    0\n",
       "6    0\n",
       "7    1\n",
       "8    0\n",
       "9    0\n",
       "Name: Purchased, dtype: int64"
      ]
     },
     "execution_count": 4,
     "metadata": {},
     "output_type": "execute_result"
    }
   ],
   "source": [
    "# Checking targets y\n",
    "y.head(10)"
   ]
  },
  {
   "cell_type": "markdown",
   "id": "73414206",
   "metadata": {},
   "source": [
    "# K-Fold Cross Validation\n",
    "https://machinelearningmastery.com/k-fold-cross-validation/\n",
    "\n",
    "\n",
    "        \n",
    "Cross-validation is a method used to assess machine learning models on a limited data sample.\n",
    "\n",
    "This method involves a key parameter named k, indicating the number of subsets the dataset should be divided into. This is why it's frequently referred to as k-fold cross-validation. When you choose a specific value for k, you can name the procedure accordingly, for instance, if k=10, it's called 10-fold cross-validation.\n",
    "\n",
    "Here's the step-by-step process:\n",
    "\n",
    "1. Shuffle the dataset (Recommended but not included in this notebook).\n",
    "\n",
    "2. Divide the dataset into k subsets.\n",
    "\n",
    "3. For each distinct subset:\n",
    "\n",
    "    Use this subset as the testing data.\n",
    "\n",
    "    Utilize the other subsets as the training data.\n",
    "\n",
    "    Train a model using the training data and test its performance on the testing data.\n",
    "\n",
    "    Keep the performance metric and then discard that particular model."
   ]
  },
  {
   "cell_type": "markdown",
   "id": "ee6175c2",
   "metadata": {},
   "source": [
    "## Index split\n",
    "In the first step, finish `k_flod_split_index` to split list `indices` into `k` parts."
   ]
  },
  {
   "cell_type": "code",
   "execution_count": 7,
   "id": "a23d7647",
   "metadata": {},
   "outputs": [],
   "source": [
    "def k_flod_split_index(indices: [], k=10) -> []:\n",
    "    splited_indices = []\n",
    "    n = len(indices)\n",
    "    fold_size = n // k  # 每折大小\n",
    "    \n",
    "    for i in range(k):\n",
    "        start = i * fold_size\n",
    "        end = (i + 1) * fold_size if i < k - 1 else n\n",
    "        splited_indices.append(indices[start:end])\n",
    "    \n",
    "    return splited_indices"
   ]
  },
  {
   "cell_type": "code",
   "execution_count": 8,
   "id": "99175e42",
   "metadata": {},
   "outputs": [
    {
     "name": "stdout",
     "output_type": "stream",
     "text": [
      "Fold 1: 40 samples, first few indices [0 1 2 3 4]\n",
      "Fold 2: 40 samples, first few indices [40 41 42 43 44]\n",
      "Fold 3: 40 samples, first few indices [80 81 82 83 84]\n",
      "Fold 4: 40 samples, first few indices [120 121 122 123 124]\n",
      "Fold 5: 40 samples, first few indices [160 161 162 163 164]\n",
      "Fold 6: 40 samples, first few indices [200 201 202 203 204]\n",
      "Fold 7: 40 samples, first few indices [240 241 242 243 244]\n",
      "Fold 8: 40 samples, first few indices [280 281 282 283 284]\n",
      "Fold 9: 40 samples, first few indices [320 321 322 323 324]\n",
      "Fold 10: 40 samples, first few indices [360 361 362 363 364]\n"
     ]
    }
   ],
   "source": [
    "indices = np.arange(len(X))\n",
    "folds = k_flod_split_index(indices, 10)\n",
    "\n",
    "for i, f in enumerate(folds):\n",
    "    print(f\"Fold {i+1}: {len(f)} samples, first few indices {f[:5]}\")"
   ]
  },
  {
   "cell_type": "markdown",
   "id": "b153da09",
   "metadata": {},
   "source": [
    "## Run K-flod\n",
    "\n",
    "Next, finish `run_eval` to run a K-flod test."
   ]
  },
  {
   "cell_type": "code",
   "execution_count": 10,
   "id": "e650216a",
   "metadata": {},
   "outputs": [
    {
     "name": "stderr",
     "output_type": "stream",
     "text": [
      "C:\\Users\\10375\\AppData\\Local\\Temp\\ipykernel_28988\\2959444809.py:38: FutureWarning: The behavior of DataFrame concatenation with empty or all-NA entries is deprecated. In a future version, this will no longer exclude empty or all-NA columns when determining the result dtypes. To retain the old behavior, exclude the relevant entries before the concat operation.\n",
      "  scores = pd.concat([scores, new_row], ignore_index=True)\n"
     ]
    },
    {
     "name": "stdout",
     "output_type": "stream",
     "text": [
      "Ave. score: 0.82\n"
     ]
    },
    {
     "data": {
      "image/png": "[encoded data removed]",
      "text/plain": [
       "<Figure size 640x480 with 1 Axes>"
      ]
     },
     "metadata": {},
     "output_type": "display_data"
    }
   ],
   "source": [
    "from sklearn.preprocessing import StandardScaler\n",
    "from sklearn.linear_model import LogisticRegression\n",
    "from sklearn.metrics import accuracy_score\n",
    "import pandas as pd\n",
    "import numpy as np\n",
    "import matplotlib.pyplot as plt\n",
    "\n",
    "# scaler\n",
    "X_sca = StandardScaler()\n",
    "X = X_sca.fit_transform(X)\n",
    "\n",
    "def run_eval(X, y, k=10, evaluation=accuracy_score):\n",
    "    correct = 0\n",
    "    total = 0\n",
    "    scores = pd.DataFrame(columns=['score'])\n",
    "    splited_indices = k_flod_split_index(range(len(X)), k)\n",
    "\n",
    "    for i in range(len(splited_indices)):\n",
    "\n",
    "        # ---------- Create train/test indices ----------\n",
    "        test_indices = np.array(splited_indices[i])\n",
    "        all_indices = np.arange(len(X))\n",
    "        train_indices = np.setdiff1d(all_indices, test_indices)\n",
    "        # ------------------------------------------------\n",
    "\n",
    "        X_train, X_test, y_train, y_test = X[train_indices], X[test_indices], \\\n",
    "                                           y[train_indices], y[test_indices]\n",
    "\n",
    "        # Train a new logistic regression model\n",
    "        clf = LogisticRegression().fit(X_train, y_train)\n",
    "\n",
    "        # Evaluate on the test set\n",
    "        y_pred = clf.predict(X_test)\n",
    "        _score = evaluation(y_test, y_pred)\n",
    "\n",
    "        # ---------- Save the performance ----------\n",
    "        new_row = pd.DataFrame({'score': [_score]})\n",
    "        scores = pd.concat([scores, new_row], ignore_index=True)\n",
    "        correct += _score\n",
    "        total += 1\n",
    "        # -------------------------------------------\n",
    "\n",
    "    print(\"Ave. score: {0:.2f}\".format(correct / total))\n",
    "    scores.plot.bar(title=\"K-Fold Accuracy per Fold\", ylabel=\"Accuracy\")\n",
    "    plt.show()\n",
    "\n",
    "# run the k-fold evaluation\n",
    "run_eval(X, y)"
   ]
  },
  {
   "cell_type": "markdown",
   "id": "3f33fd7e",
   "metadata": {},
   "source": [
    "# Confusion Matrix\n",
    "\n",
    "Confusion matrix is used only on classification tasks. It describes the following matrix\n",
    "\n",
    "|            | predicted true | predicted false |\n",
    "|------------|----------------|-----------------|\n",
    "|actual true | True Positive  | False Negative  |\n",
    "|actual false| False Positive | True Negative   |\n",
    "\n",
    "Complete the function `calculate_matrix`, by computing the four parts of the confusion matrix created in the function."
   ]
  },
  {
   "cell_type": "code",
   "execution_count": null,
   "id": "8054541b",
   "metadata": {},
   "outputs": [],
   "source": [
    "def calculate_matrix(y_true:[], y_pred:[]):\n",
    "    \"\"\"\n",
    "    Computes the four counts in the confusion matrix.\n",
    "\n",
    "    params: \n",
    "        y_true: list of actual labels\n",
    "        y_pred: list of predicted labels    \n",
    "\n",
    "    returns:\n",
    "        tp: number of true positives\n",
    "        tn: number of true negatives\n",
    "        fp: number of false positives\n",
    "        fn: number of false negatives\n",
    "    \"\"\"\n",
    "    tp = 0\n",
    "    tn = 0\n",
    "    fp = 0\n",
    "    fn = 0\n",
    "\n",
    "    #Insert Your Code Here\n",
    "   \n",
    "\n",
    "    \n",
    "    \n",
    "    #=====================\n",
    "    \n",
    "    return tp, tn, fp, fn"
   ]
  },
  {
   "cell_type": "markdown",
   "id": "e3ef30b3",
   "metadata": {},
   "source": [
    "## Accuracy\n",
    "\n",
    "$$\\text{Accuracy} = \\frac{TP + TN}{TP + TN + FP + FN}$$\n",
    "\n",
    "Complete the function `accuracy`\n",
    "\n"
   ]
  },
  {
   "cell_type": "code",
   "execution_count": 11,
   "id": "559e85ae",
   "metadata": {},
   "outputs": [
    {
     "name": "stdout",
     "output_type": "stream",
     "text": [
      "TP=3, TN=3, FP=1, FN=1\n"
     ]
    }
   ],
   "source": [
    "def calculate_matrix(y_true: [], y_pred: []):\n",
    "    \"\"\"\n",
    "    Computes the four counts in the confusion matrix.\n",
    "\n",
    "    params:\n",
    "        y_true: list of actual labels\n",
    "        y_pred: list of predicted labels\n",
    "\n",
    "    returns:\n",
    "        tp: number of true positives\n",
    "        tn: number of true negatives\n",
    "        fp: number of false positives\n",
    "        fn: number of false negatives\n",
    "    \"\"\"\n",
    "    tp = tn = fp = fn = 0\n",
    "\n",
    "    # Traverse all samples and count\n",
    "    for yt, yp in zip(y_true, y_pred):\n",
    "        if yt == 1 and yp == 1:\n",
    "            tp += 1\n",
    "        elif yt == 0 and yp == 0:\n",
    "            tn += 1\n",
    "        elif yt == 0 and yp == 1:\n",
    "            fp += 1\n",
    "        elif yt == 1 and yp == 0:\n",
    "            fn += 1\n",
    "\n",
    "    return tp, tn, fp, fn\n",
    "\n",
    "y_true = [1, 0, 1, 1, 0, 0, 1, 0]\n",
    "y_pred = [1, 0, 0, 1, 0, 1, 1, 0]\n",
    "\n",
    "tp, tn, fp, fn = calculate_matrix(y_true, y_pred)\n",
    "print(f\"TP={tp}, TN={tn}, FP={fp}, FN={fn}\")\n"
   ]
  },
  {
   "cell_type": "markdown",
   "id": "d1936113",
   "metadata": {},
   "source": [
    "Now we can call your accuracy in the K-fold test. Does it get the same result as the previous test?"
   ]
  },
  {
   "cell_type": "code",
   "execution_count": 13,
   "id": "dec54a98",
   "metadata": {},
   "outputs": [
    {
     "name": "stdout",
     "output_type": "stream",
     "text": [
      "Ave. score: 0.82\n"
     ]
    },
    {
     "name": "stderr",
     "output_type": "stream",
     "text": [
      "C:\\Users\\10375\\AppData\\Local\\Temp\\ipykernel_28988\\2959444809.py:38: FutureWarning: The behavior of DataFrame concatenation with empty or all-NA entries is deprecated. In a future version, this will no longer exclude empty or all-NA columns when determining the result dtypes. To retain the old behavior, exclude the relevant entries before the concat operation.\n",
      "  scores = pd.concat([scores, new_row], ignore_index=True)\n"
     ]
    },
    {
     "data": {
      "image/png": "[encoded data removed]",
      "text/plain": [
       "<Figure size 640x480 with 1 Axes>"
      ]
     },
     "metadata": {},
     "output_type": "display_data"
    }
   ],
   "source": [
    "def accuracy(y_true, y_pred):\n",
    "    tp, tn, fp, fn = calculate_matrix(y_true, y_pred)\n",
    "    acc = (tp + tn) / (tp + tn + fp + fn)\n",
    "    return acc\n",
    "\n",
    "run_eval(X,y,evaluation=accuracy)"
   ]
  },
  {
   "cell_type": "markdown",
   "id": "a4c1e7a0",
   "metadata": {},
   "source": [
    "## Precision (Positive Predicted Value) \n",
    "\n",
    "$$\\text{Precision} = \\frac{TP}{TP + FP}$$\n",
    "\n",
    "Intuitively, what precision states is out of the number of times your model predicts true, how many times is it correct? This metric penalizes heavily for False Positives. This metric should be considered when its OK to have some false negatives but not false positives. Imagine if your model is predicting the conclusion of a jurisdiction. Its OK to leave a criminal free, rather than punishing an innocent one. \n",
    "\n",
    "## Recall (Sensitivity) \n",
    "\n",
    "$$\\text{Recall} = \\frac{TP}{TP + FN}$$\n",
    "\n",
    "Intuitively, what recall states is out of the times the output is true, how many times are you correct? This metric penalizes heavily for False Negatives. This metric should be considered when its OK to have some false positives but not false negatives.\n",
    "\n",
    "\n",
    "## F1 Score\n",
    "\n",
    "F1 score is the harmonic mean of precision and recall. \n",
    "\n",
    "\n",
    "$$\\text{F}_1 = 2 \\cdot \\frac{\\text{precision} \\cdot \\text{recall}}{\\text{precision} + \\text{recall}}$$\n",
    "\n",
    "Finish implementing the `precision`, `recall` and `f1` functions below, where Precision, Recall and F1 are calculated."
   ]
  },
  {
   "cell_type": "code",
   "execution_count": 14,
   "id": "2dfcd59b",
   "metadata": {},
   "outputs": [],
   "source": [
    "def precision(y_true: [], y_pred: []):\n",
    "    \"\"\"\n",
    "    Computes the precision score.\n",
    "    \"\"\"\n",
    "    tp, tn, fp, fn = calculate_matrix(y_true, y_pred)\n",
    "    if tp + fp == 0:\n",
    "        p = 0\n",
    "    else:\n",
    "        p = tp / (tp + fp)\n",
    "    return p\n",
    "\n",
    "\n",
    "def recall(y_true: [], y_pred: []):\n",
    "    \"\"\"\n",
    "    Computes the recall score.\n",
    "    \"\"\"\n",
    "    tp, tn, fp, fn = calculate_matrix(y_true, y_pred)\n",
    "    if tp + fn == 0:\n",
    "        r = 0\n",
    "    else:\n",
    "        r = tp / (tp + fn)\n",
    "    return r\n",
    "\n",
    "\n",
    "def f1(y_true: [], y_pred: []):\n",
    "    \"\"\"\n",
    "    Computes the f1 score.\n",
    "    \"\"\"\n",
    "    p = precision(y_true, y_pred)\n",
    "    r = recall(y_true, y_pred)\n",
    "    if (p + r) == 0:\n",
    "        f1 = 0\n",
    "    else:\n",
    "        f1 = 2 * p * r / (p + r)\n",
    "    return f1\n"
   ]
  },
  {
   "cell_type": "code",
   "execution_count": 15,
   "id": "c55b8de6",
   "metadata": {},
   "outputs": [
    {
     "name": "stderr",
     "output_type": "stream",
     "text": [
      "C:\\Users\\10375\\AppData\\Local\\Temp\\ipykernel_28988\\2959444809.py:38: FutureWarning: The behavior of DataFrame concatenation with empty or all-NA entries is deprecated. In a future version, this will no longer exclude empty or all-NA columns when determining the result dtypes. To retain the old behavior, exclude the relevant entries before the concat operation.\n",
      "  scores = pd.concat([scores, new_row], ignore_index=True)\n"
     ]
    },
    {
     "name": "stdout",
     "output_type": "stream",
     "text": [
      "Ave. score: 0.58\n"
     ]
    },
    {
     "data": {
      "image/png": "[encoded data removed]",
      "text/plain": [
       "<Figure size 640x480 with 1 Axes>"
      ]
     },
     "metadata": {},
     "output_type": "display_data"
    }
   ],
   "source": [
    "run_eval(X,y,evaluation=precision)"
   ]
  },
  {
   "cell_type": "code",
   "execution_count": 16,
   "id": "d8df8fc9",
   "metadata": {},
   "outputs": [
    {
     "name": "stdout",
     "output_type": "stream",
     "text": [
      "Ave. score: 0.44\n"
     ]
    },
    {
     "name": "stderr",
     "output_type": "stream",
     "text": [
      "C:\\Users\\10375\\AppData\\Local\\Temp\\ipykernel_28988\\2959444809.py:38: FutureWarning: The behavior of DataFrame concatenation with empty or all-NA entries is deprecated. In a future version, this will no longer exclude empty or all-NA columns when determining the result dtypes. To retain the old behavior, exclude the relevant entries before the concat operation.\n",
      "  scores = pd.concat([scores, new_row], ignore_index=True)\n"
     ]
    },
    {
     "data": {
      "image/png": "[encoded data removed]",
      "text/plain": [
       "<Figure size 640x480 with 1 Axes>"
      ]
     },
     "metadata": {},
     "output_type": "display_data"
    }
   ],
   "source": [
    "run_eval(X,y,evaluation=recall)"
   ]
  },
  {
   "cell_type": "code",
   "execution_count": 17,
   "id": "d8772a6d",
   "metadata": {},
   "outputs": [
    {
     "name": "stdout",
     "output_type": "stream",
     "text": [
      "Ave. score: 0.46\n"
     ]
    },
    {
     "name": "stderr",
     "output_type": "stream",
     "text": [
      "C:\\Users\\10375\\AppData\\Local\\Temp\\ipykernel_28988\\2959444809.py:38: FutureWarning: The behavior of DataFrame concatenation with empty or all-NA entries is deprecated. In a future version, this will no longer exclude empty or all-NA columns when determining the result dtypes. To retain the old behavior, exclude the relevant entries before the concat operation.\n",
      "  scores = pd.concat([scores, new_row], ignore_index=True)\n"
     ]
    },
    {
     "data": {
      "image/png": "[encoded data removed]",
      "text/plain": [
       "<Figure size 640x480 with 1 Axes>"
      ]
     },
     "metadata": {},
     "output_type": "display_data"
    }
   ],
   "source": [
    "run_eval(X,y,evaluation=f1)"
   ]
  }
 ],
 "metadata": {
  "kernelspec": {
   "display_name": "Python 3 (ipykernel)",
   "language": "python",
   "name": "python3"
  },
  "language_info": {
   "codemirror_mode": {
    "name": "ipython",
    "version": 3
   },
   "file_extension": ".py",
   "mimetype": "text/x-python",
   "name": "python",
   "nbconvert_exporter": "python",
   "pygments_lexer": "ipython3",
   "version": "3.12.4"
  },
  "nbTranslate": {
   "displayLangs": [
    "*"
   ],
   "hotkey": "alt-t",
   "langInMainMenu": true,
   "sourceLang": "en",
   "targetLang": "fr",
   "useGoogleTranslate": true
  },
  "toc": {
   "base_numbering": 1,
   "nav_menu": {},
   "number_sections": true,
   "sideBar": true,
   "skip_h1_title": false,
   "title_cell": "Table of Contents",
   "title_sidebar": "Contents",
   "toc_cell": false,
   "toc_position": {},
   "toc_section_display": true,
   "toc_window_display": false
  },
  "varInspector": {
   "cols": {
    "lenName": 16,
    "lenType": 16,
    "lenVar": 40
   },
   "kernels_config": {
    "python": {
     "delete_cmd_postfix": "",
     "delete_cmd_prefix": "del ",
     "library": "var_list.py",
     "varRefreshCmd": "print(var_dic_list())"
    },
    "r": {
     "delete_cmd_postfix": ") ",
     "delete_cmd_prefix": "rm(",
     "library": "var_list.r",
     "varRefreshCmd": "cat(var_dic_list()) "
    }
   },
   "types_to_exclude": [
    "module",
    "function",
    "builtin_function_or_method",
    "instance",
    "_Feature"
   ],
   "window_display": false
  }
 },
 "nbformat": 4,
 "nbformat_minor": 5
}
